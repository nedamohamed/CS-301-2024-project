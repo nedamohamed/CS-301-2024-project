{
 "cells": [
  {
   "cell_type": "code",
   "execution_count": 1,
   "metadata": {},
   "outputs": [],
   "source": [
    "import random\n",
    "import itertools"
   ]
  },
  {
   "cell_type": "code",
   "execution_count": 2,
   "metadata": {},
   "outputs": [],
   "source": [
    "def generate_random_2sat_problem(num_vars, num_clauses):\n",
    "    clauses = []\n",
    "    for _ in range(num_clauses):\n",
    "        var1 = random.randint(0, num_vars - 1)\n",
    "        var2 = random.randint(0, num_vars - 1)\n",
    "        \n",
    "        while var1 == var2:\n",
    "            var2 = random.randint(0, num_vars - 1)\n",
    "        \n",
    "        sign1 = random.choice([True, False])\n",
    "        sign2 = random.choice([True, False])\n",
    "        \n",
    "        clauses.append(((var1, sign1), (var2, sign2)))\n",
    "    \n",
    "    return clauses"
   ]
  },
  {
   "cell_type": "code",
   "execution_count": 6,
   "metadata": {},
   "outputs": [],
   "source": [
    "def max_2_sat_k(clauses, num_vars, k):\n",
    "    for assignment in itertools.product([False, True], repeat=num_vars):\n",
    "        satisfied = 0\n",
    "        \n",
    "        for (var1, sign1), (var2, sign2) in clauses:\n",
    "            if (assignment[var1] == sign1) or (assignment[var2] == sign2):\n",
    "                satisfied += 1\n",
    "                \n",
    "        if satisfied == k:\n",
    "            return assignment\n",
    "            \n",
    "    return None"
   ]
  },
  {
   "cell_type": "code",
   "execution_count": 11,
   "metadata": {},
   "outputs": [],
   "source": [
    "def run_test_case(test_num, num_vars, num_clauses, k):\n",
    "    result = f\"Test Case {test_num}:\\n\"\n",
    "    result += f\"Number of Variables: {num_vars}, Number of Clauses: {num_clauses}, k: {k}\\n\"\n",
    "    \n",
    "    clauses = generate_random_2sat_problem(num_vars, num_clauses)\n",
    "    result += f\"Generated Clauses: {clauses}\\n\"\n",
    "    \n",
    "    assignment = max_2_sat_k(clauses, num_vars, k)\n",
    "    \n",
    "    if assignment:\n",
    "        result += f\"Assignment satisfying exactly {k} clauses: {assignment}\\n\\n\"\n",
    "    else:\n",
    "        result += f\"No assignment satisfies exactly {k} clauses.\\n\\n\"\n",
    "    \n",
    "    return result"
   ]
  },
  {
   "cell_type": "code",
   "execution_count": 12,
   "metadata": {},
   "outputs": [],
   "source": [
    "# Open a file to write the output\n",
    "with open('test_cases_output.txt', 'w') as file:\n",
    "    # Generate and run 20 test cases\n",
    "    for i in range(1, 21):\n",
    "        num_vars = random.randint(2, 6)  # Randomly select number of variables between 2 and 6\n",
    "        num_clauses = random.randint(num_vars + 1, num_vars * 2)  # Clauses between num_vars+1 and num_vars*2\n",
    "        k = random.randint(1, num_clauses - 1)  # Ensure k < num_clauses\n",
    "        result = run_test_case(i, num_vars, num_clauses, k)\n",
    "        file.write(result)"
   ]
  },
  {
   "cell_type": "code",
   "execution_count": null,
   "metadata": {},
   "outputs": [],
   "source": []
  }
 ],
 "metadata": {
  "kernelspec": {
   "display_name": "base",
   "language": "python",
   "name": "python3"
  },
  "language_info": {
   "codemirror_mode": {
    "name": "ipython",
    "version": 3
   },
   "file_extension": ".py",
   "mimetype": "text/x-python",
   "name": "python",
   "nbconvert_exporter": "python",
   "pygments_lexer": "ipython3",
   "version": "3.10.9"
  }
 },
 "nbformat": 4,
 "nbformat_minor": 2
}
